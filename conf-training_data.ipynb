{
 "cells": [
  {
   "cell_type": "code",
   "execution_count": null,
   "metadata": {},
   "outputs": [
    {
     "name": "stdout",
     "output_type": "stream",
     "text": [
      "Appointments: 12000\n",
      "Encounters: 10800\n",
      "Observations: 13200\n",
      "Patients: 1200\n",
      "Practitioners: 70\n"
     ]
    }
   ],
   "source": [
    "import pandas as pd\n",
    "\n",
    "# jeg indlæser filerne her\n",
    "appointments_raw = pd.read_csv(\"Appointment.csv\", header=None)\n",
    "encounters_raw = pd.read_csv(\"Encounter.csv\", header=None)\n",
    "observations_raw = pd.read_csv(\"Observation.csv\", header=None)\n",
    "patients_raw = pd.read_csv(\"Patient.csv\", header=None)\n",
    "practitioners_raw = pd.read_csv(\"Practitioner.csv\", header=None)\n",
    "\n",
    "\n",
    "print(\"Appointments:\", len(appointments_raw))\n",
    "print(\"Encounters:\", len(encounters_raw))\n",
    "print(\"Observations:\", len(observations_raw))\n",
    "print(\"Patients:\", len(patients_raw))\n",
    "print(\"Practitioners:\", len(practitioners_raw))\n",
    "\n",
    "\n",
    "\n",
    "        "
   ]
  },
  {
   "cell_type": "code",
   "execution_count": 177,
   "metadata": {},
   "outputs": [],
   "source": [
    "def extract_from_appointment(json_str):\n",
    "    try:\n",
    "        data = json.loads(json_str)\n",
    "        patient_id = None\n",
    "        practitioner_id = None\n",
    "\n",
    "        for participant in data.get(\"participant\", []):\n",
    "            actor = participant.get(\"actor\", {})\n",
    "            ref = actor.get(\"reference\", \"\")\n",
    "            if ref.startswith(\"Practitioner/\"):\n",
    "                practitioner_id = ref.split(\"/\")[-1]\n",
    "            elif not ref.startswith(\"Location/\") and not ref.startswith(\"Practitioner/\"):\n",
    "                patient_id = ref  \n",
    "\n",
    "        return pd.Series([patient_id, practitioner_id])\n",
    "    except Exception as e:\n",
    "        print(\"Fejl i parsing:\", e)\n",
    "        return pd.Series([None, None])\n",
    "\n",
    "\n",
    "\n"
   ]
  },
  {
   "cell_type": "code",
   "execution_count": 178,
   "metadata": {},
   "outputs": [
    {
     "name": "stdout",
     "output_type": "stream",
     "text": [
      "                              PatientID PractitionerID  Appointments\n",
      "0  00127b47-8a14-4eb3-94ac-5d22c0d944b3    user0000014             1\n",
      "1  00127b47-8a14-4eb3-94ac-5d22c0d944b3    user0000022             1\n",
      "2  00127b47-8a14-4eb3-94ac-5d22c0d944b3    user0000024             1\n",
      "3  00127b47-8a14-4eb3-94ac-5d22c0d944b3    user0000025             1\n",
      "4  00127b47-8a14-4eb3-94ac-5d22c0d944b3    user0000027             1\n"
     ]
    }
   ],
   "source": [
    "\n",
    "appointments_df = appointments_raw[[3]].copy()\n",
    "appointments_df[[\"PatientID\", \"PractitionerID\"]] = appointments_df[3].apply(extract_from_appointment)\n",
    "\n",
    "\n",
    "appointments_df = appointments_df.dropna(subset=[\"PatientID\", \"PractitionerID\"])\n",
    "\n",
    "\n",
    "appointments_counts = (\n",
    "    appointments_df\n",
    "    .groupby([\"PatientID\", \"PractitionerID\"])\n",
    "    .size()\n",
    "    .reset_index(name=\"Appointments\")\n",
    ")\n",
    "\n",
    "print(appointments_counts.head())\n"
   ]
  },
  {
   "cell_type": "code",
   "execution_count": 179,
   "metadata": {},
   "outputs": [
    {
     "name": "stdout",
     "output_type": "stream",
     "text": [
      "  PatientID PractitionerID  Encounters\n",
      "0              user0000001         139\n",
      "1              user0000002         153\n",
      "2              user0000003         164\n",
      "3              user0000004         152\n",
      "4              user0000005         171\n"
     ]
    }
   ],
   "source": [
    "def extract_from_encounter(json_str):\n",
    "    try:\n",
    "        data = json.loads(json_str)\n",
    "        patient_id = data.get(\"subject\", {}).get(\"reference\", \"\").replace(\"Patient/\", \"\")\n",
    "        practitioner_id = None\n",
    "\n",
    "        for participant in data.get(\"participant\", []):\n",
    "            actor = participant.get(\"individual\", {})\n",
    "            ref = actor.get(\"reference\", \"\")\n",
    "            if ref.startswith(\"Practitioner/\"):\n",
    "                practitioner_id = ref.split(\"/\")[-1]\n",
    "\n",
    "        return pd.Series([patient_id, practitioner_id])\n",
    "    except Exception as e:\n",
    "        print(\"Fejl i parsing encounter:\", e)\n",
    "        return pd.Series([None, None])\n",
    "\n",
    "\n",
    "encounters_df = encounters_raw[[3]].copy()\n",
    "encounters_df[[\"PatientID\", \"PractitionerID\"]] = encounters_df[3].apply(extract_from_encounter)\n",
    "\n",
    "\n",
    "encounters_df = encounters_df.dropna(subset=[\"PatientID\", \"PractitionerID\"])\n",
    "\n",
    "\n",
    "encounters_counts = (\n",
    "    encounters_df\n",
    "    .groupby([\"PatientID\", \"PractitionerID\"])\n",
    "    .size()\n",
    "    .reset_index(name=\"Encounters\")\n",
    ")\n",
    "\n",
    "\n",
    "print(encounters_counts.head())\n"
   ]
  },
  {
   "cell_type": "code",
   "execution_count": null,
   "metadata": {},
   "outputs": [
    {
     "name": "stdout",
     "output_type": "stream",
     "text": [
      "     User_name PatientID  Appointments  Observations  Encounters  \\\n",
      "0  user0000001                       0             0         139   \n",
      "1  user0000002                       0             0         153   \n",
      "2  user0000003                       0             0         164   \n",
      "3  user0000004                       0             0         152   \n",
      "4  user0000005                       0             0         171   \n",
      "\n",
      "   SpecialAction   Class  \n",
      "0              0  normal  \n",
      "1              0  normal  \n",
      "2              0  normal  \n",
      "3              0  normal  \n",
      "4              0  normal  \n"
     ]
    }
   ],
   "source": [
    "\n",
    "merged = appointments_counts \\\n",
    "    .merge(encounters_counts, on=[\"PatientID\", \"PractitionerID\"], how=\"outer\") \\\n",
    "    .merge(observations_counts, on=[\"PatientID\", \"PractitionerID\"], how=\"outer\") \\\n",
    "    .fillna(0)\n",
    "\n",
    "\n",
    "merged[[\"Appointments\", \"Encounters\", \"Observations\"]] = merged[[\"Appointments\", \"Encounters\", \"Observations\"]].astype(int)\n",
    "\n",
    "\n",
    "merged[\"TotalInteractions\"] = merged[[\"Appointments\", \"Encounters\", \"Observations\"]].sum(axis=1)\n",
    "\n",
    "\n",
    "merged[\"Class\"] = merged[\"TotalInteractions\"].apply(lambda x: \"anomalous\" if x == 1 else \"normal\")\n",
    "\n",
    "\n",
    "merged[\"User_name\"] = merged[\"PractitionerID\"]\n",
    "merged[\"SpecialAction\"] = 0\n",
    "\n",
    "\n",
    "final_df = merged[[\"User_name\", \"PatientID\", \"Appointments\", \"Observations\", \"Encounters\", \"SpecialAction\", \"Class\"]]\n",
    "\n",
    "\n",
    "final_df.to_csv(\"conf-training-dataset.csv\", index=False)\n",
    "\n",
    "\n",
    "print(final_df.head())\n"
   ]
  },
  {
   "cell_type": "code",
   "execution_count": 198,
   "metadata": {},
   "outputs": [],
   "source": [
    "def extract_encounter_patient_practitioner(js):\n",
    "    try:\n",
    "        data = json.loads(js)\n",
    "        patient_ref = data.get(\"patient\", {}).get(\"reference\", \"\")\n",
    "        patient_id = patient_ref.split(\"/\")[-1] if \"Patient/\" in patient_ref else patient_ref\n",
    "\n",
    "        practitioner_id = None\n",
    "        for participant in data.get(\"participant\", []):\n",
    "            actor = participant.get(\"individual\", {})\n",
    "            ref = actor.get(\"reference\", \"\")\n",
    "            if ref.startswith(\"Practitioner/\"):\n",
    "                practitioner_id = ref.split(\"/\")[-1]\n",
    "\n",
    "        return pd.Series([patient_id, practitioner_id])\n",
    "    except Exception as e:\n",
    "        print(\"Fejl:\", e)\n",
    "        return pd.Series([None, None])\n",
    "\n"
   ]
  },
  {
   "cell_type": "code",
   "execution_count": null,
   "metadata": {},
   "outputs": [
    {
     "name": "stdout",
     "output_type": "stream",
     "text": [
      "                              PatientID PractitionerID\n",
      "0  5da8452a-5082-4582-a029-212f5ef781aa    user0000014\n",
      "1  5da8452a-5082-4582-a029-212f5ef781aa    user0000016\n",
      "2  5da8452a-5082-4582-a029-212f5ef781aa    user0000009\n",
      "3  5da8452a-5082-4582-a029-212f5ef781aa    user0000006\n",
      "4  5da8452a-5082-4582-a029-212f5ef781aa    user0000014\n"
     ]
    }
   ],
   "source": [
    "test_encounters = encounters_raw[[3]].copy()\n",
    "test_encounters[[\"PatientID\", \"PractitionerID\"]] = test_encounters[3].apply(extract_encounter_patient_practitioner)\n",
    "\n",
    "\n",
    "print(test_encounters[[\"PatientID\", \"PractitionerID\"]].head())\n",
    "\n"
   ]
  },
  {
   "cell_type": "code",
   "execution_count": 200,
   "metadata": {},
   "outputs": [
    {
     "name": "stdout",
     "output_type": "stream",
     "text": [
      "                              PatientID PractitionerID  Encounters\n",
      "0  00127b47-8a14-4eb3-94ac-5d22c0d944b3    user0000002           1\n",
      "1  00127b47-8a14-4eb3-94ac-5d22c0d944b3    user0000009           1\n",
      "2  00127b47-8a14-4eb3-94ac-5d22c0d944b3    user0000028           1\n",
      "3  00127b47-8a14-4eb3-94ac-5d22c0d944b3    user0000029           1\n",
      "4  00127b47-8a14-4eb3-94ac-5d22c0d944b3    user0000055           1\n"
     ]
    }
   ],
   "source": [
    "encounters_counts = (\n",
    "    test_encounters\n",
    "    .groupby([\"PatientID\", \"PractitionerID\"])\n",
    "    .size()\n",
    "    .reset_index(name=\"Encounters\")\n",
    ")\n",
    "\n",
    "print(encounters_counts.head())\n"
   ]
  },
  {
   "cell_type": "code",
   "execution_count": 201,
   "metadata": {},
   "outputs": [],
   "source": [
    "def extract_appointment_patient_practitioner(js):\n",
    "    try:\n",
    "        data = json.loads(js)\n",
    "        patient_id = None\n",
    "        practitioner_id = None\n",
    "\n",
    "        for p in data.get(\"participant\", []):\n",
    "            actor = p.get(\"actor\", {})\n",
    "            ref = actor.get(\"reference\", \"\")\n",
    "            if ref.startswith(\"Practitioner/\"):\n",
    "                practitioner_id = ref.split(\"/\")[-1]\n",
    "            elif not ref.startswith(\"Location/\") and not ref.startswith(\"Practitioner/\"):\n",
    "                patient_id = ref.split(\"/\")[-1]  \n",
    "\n",
    "        return pd.Series([patient_id, practitioner_id])\n",
    "    except Exception as e:\n",
    "        print(\"Fejl:\", e)\n",
    "        return pd.Series([None, None])\n"
   ]
  },
  {
   "cell_type": "code",
   "execution_count": 202,
   "metadata": {},
   "outputs": [
    {
     "name": "stdout",
     "output_type": "stream",
     "text": [
      "                              PatientID PractitionerID\n",
      "0  5da8452a-5082-4582-a029-212f5ef781aa    user0000056\n",
      "1  5da8452a-5082-4582-a029-212f5ef781aa    user0000049\n",
      "2  5da8452a-5082-4582-a029-212f5ef781aa    user0000043\n",
      "3  5da8452a-5082-4582-a029-212f5ef781aa    user0000064\n",
      "4  5da8452a-5082-4582-a029-212f5ef781aa    user0000030\n"
     ]
    }
   ],
   "source": [
    "test_appointments = appointments_raw[[3]].copy()\n",
    "test_appointments[[\"PatientID\", \"PractitionerID\"]] = test_appointments[3].apply(extract_appointment_patient_practitioner)\n",
    "\n",
    "\n",
    "print(test_appointments[[\"PatientID\", \"PractitionerID\"]].head())\n"
   ]
  },
  {
   "cell_type": "code",
   "execution_count": 203,
   "metadata": {},
   "outputs": [
    {
     "name": "stdout",
     "output_type": "stream",
     "text": [
      "                              PatientID PractitionerID  Appointments\n",
      "0  00127b47-8a14-4eb3-94ac-5d22c0d944b3    user0000014             1\n",
      "1  00127b47-8a14-4eb3-94ac-5d22c0d944b3    user0000022             1\n",
      "2  00127b47-8a14-4eb3-94ac-5d22c0d944b3    user0000024             1\n",
      "3  00127b47-8a14-4eb3-94ac-5d22c0d944b3    user0000025             1\n",
      "4  00127b47-8a14-4eb3-94ac-5d22c0d944b3    user0000027             1\n"
     ]
    }
   ],
   "source": [
    "appointments_counts = (\n",
    "    test_appointments\n",
    "    .groupby([\"PatientID\", \"PractitionerID\"])\n",
    "    .size()\n",
    "    .reset_index(name=\"Appointments\")\n",
    ")\n",
    "\n",
    "print(appointments_counts.head())\n"
   ]
  },
  {
   "cell_type": "code",
   "execution_count": 204,
   "metadata": {},
   "outputs": [],
   "source": [
    "def extract_observation_patient_practitioner(js):\n",
    "    try:\n",
    "        data = json.loads(js)\n",
    "        patient_ref = data.get(\"subject\", {}).get(\"reference\", \"\")\n",
    "        patient_id = patient_ref.split(\"/\")[-1] if \"Patient/\" in patient_ref else patient_ref\n",
    "\n",
    "        practitioner_id = None\n",
    "        for p in data.get(\"performer\", []):\n",
    "            ref = p.get(\"reference\", \"\")\n",
    "            if ref.startswith(\"Practitioner/\"):\n",
    "                practitioner_id = ref.split(\"/\")[-1]\n",
    "\n",
    "        return pd.Series([patient_id, practitioner_id])\n",
    "    except Exception as e:\n",
    "        print(\"Fejl:\", e)\n",
    "        return pd.Series([None, None])\n"
   ]
  },
  {
   "cell_type": "code",
   "execution_count": 205,
   "metadata": {},
   "outputs": [
    {
     "name": "stdout",
     "output_type": "stream",
     "text": [
      "                              PatientID PractitionerID\n",
      "0  5da8452a-5082-4582-a029-212f5ef781aa           None\n",
      "1  5da8452a-5082-4582-a029-212f5ef781aa           None\n",
      "2  5da8452a-5082-4582-a029-212f5ef781aa           None\n",
      "3  5da8452a-5082-4582-a029-212f5ef781aa           None\n",
      "4  5da8452a-5082-4582-a029-212f5ef781aa           None\n"
     ]
    }
   ],
   "source": [
    "test_observations = observations_raw[[3]].copy()\n",
    "test_observations[[\"PatientID\", \"PractitionerID\"]] = test_observations[3].apply(extract_observation_patient_practitioner)\n",
    "\n",
    "\n",
    "print(test_observations[[\"PatientID\", \"PractitionerID\"]].head())\n"
   ]
  },
  {
   "cell_type": "code",
   "execution_count": 206,
   "metadata": {},
   "outputs": [
    {
     "name": "stdout",
     "output_type": "stream",
     "text": [
      "Empty DataFrame\n",
      "Columns: [PatientID, PractitionerID, Observations]\n",
      "Index: []\n"
     ]
    }
   ],
   "source": [
    "observations_counts = (\n",
    "    test_observations\n",
    "    .dropna(subset=[\"PatientID\", \"PractitionerID\"])\n",
    "    .groupby([\"PatientID\", \"PractitionerID\"])\n",
    "    .size()\n",
    "    .reset_index(name=\"Observations\")\n",
    ")\n",
    "\n",
    "print(observations_counts.head())\n"
   ]
  },
  {
   "cell_type": "code",
   "execution_count": 207,
   "metadata": {},
   "outputs": [
    {
     "name": "stdout",
     "output_type": "stream",
     "text": [
      "     User_name                             PatientID  Appointments  \\\n",
      "0  user0000002  00127b47-8a14-4eb3-94ac-5d22c0d944b3             0   \n",
      "1  user0000009  00127b47-8a14-4eb3-94ac-5d22c0d944b3             0   \n",
      "2  user0000014  00127b47-8a14-4eb3-94ac-5d22c0d944b3             1   \n",
      "3  user0000022  00127b47-8a14-4eb3-94ac-5d22c0d944b3             1   \n",
      "4  user0000024  00127b47-8a14-4eb3-94ac-5d22c0d944b3             1   \n",
      "\n",
      "   Observations  Encounters  SpecialAction      Class  \n",
      "0             0           1              0  anomalous  \n",
      "1             0           1              0  anomalous  \n",
      "2             0           0              0  anomalous  \n",
      "3             0           0              0  anomalous  \n",
      "4             0           0              0  anomalous  \n"
     ]
    }
   ],
   "source": [
    "\n",
    "merged = appointments_counts \\\n",
    "    .merge(encounters_counts, on=[\"PatientID\", \"PractitionerID\"], how=\"outer\") \\\n",
    "    .merge(observations_counts, on=[\"PatientID\", \"PractitionerID\"], how=\"outer\") \\\n",
    "    .fillna(0)\n",
    "\n",
    "\n",
    "merged[[\"Appointments\", \"Encounters\", \"Observations\"]] = merged[[\"Appointments\", \"Encounters\", \"Observations\"]].astype(int)\n",
    "\n",
    "\n",
    "merged[\"Total\"] = merged[[\"Appointments\", \"Encounters\", \"Observations\"]].sum(axis=1)\n",
    "merged[\"Class\"] = merged[\"Total\"].apply(lambda x: \"anomalous\" if x == 1 else \"normal\")\n",
    "merged[\"User_name\"] = merged[\"PractitionerID\"]\n",
    "merged[\"SpecialAction\"] = 0\n",
    "\n",
    "\n",
    "final_df = merged[[\"User_name\", \"PatientID\", \"Appointments\", \"Observations\", \"Encounters\", \"SpecialAction\", \"Class\"]]\n",
    "\n",
    "\n",
    "final_df.to_csv(\"conf-training-dataset.csv\", index=False)\n",
    "print(final_df.head())\n"
   ]
  }
 ],
 "metadata": {
  "kernelspec": {
   "display_name": "Python (amlfall 3.9.6)",
   "language": "python",
   "name": "amlfall"
  },
  "language_info": {
   "codemirror_mode": {
    "name": "ipython",
    "version": 3
   },
   "file_extension": ".py",
   "mimetype": "text/x-python",
   "name": "python",
   "nbconvert_exporter": "python",
   "pygments_lexer": "ipython3",
   "version": "3.9.16"
  }
 },
 "nbformat": 4,
 "nbformat_minor": 2
}
